{
 "cells": [
  {
   "cell_type": "code",
   "execution_count": 1,
   "metadata": {
    "collapsed": false,
    "scrolled": true,
    "slideshow": {
     "slide_type": "slide"
    }
   },
   "outputs": [
    {
     "name": "stdout",
     "output_type": "stream",
     "text": [
      "Distribucions.ipynb        car.py\r\n",
      "M_q.py                     car.py~\r\n",
      "Millora.ipynb              parquing.py\r\n",
      "Post Processament.ipynb    parquing.py~\r\n",
      "Primer LLiurament.docx     sim_ge1.py\r\n",
      "Rubrica.pdf                sim_ge1.pyc\r\n",
      "Simular_exercici.py        simular.py\r\n",
      "Simular_exercici.py.html   simular_ge.py\r\n",
      "\u001b[34mSimular_exercici.py_files\u001b[m\u001b[m/ simular_ge.pyc\r\n",
      "Simular_exercici.pyc\r\n"
     ]
    }
   ],
   "source": [
    "%ls"
   ]
  },
  {
   "cell_type": "code",
   "execution_count": 2,
   "metadata": {
    "collapsed": false,
    "slideshow": {
     "slide_type": "slide"
    }
   },
   "outputs": [],
   "source": [
    "%run sim_ge1"
   ]
  },
  {
   "cell_type": "markdown",
   "metadata": {
    "slideshow": {
     "slide_type": "subslide"
    }
   },
   "source": [
    "# Obtinc el rang dels bons:\n"
   ]
  },
  {
   "cell_type": "code",
   "execution_count": 3,
   "metadata": {
    "collapsed": true,
    "slideshow": {
     "slide_type": "subslide"
    }
   },
   "outputs": [],
   "source": [
    "def tractar_esdeveniments(na_notractada,Temps_execucio):\n",
    "    \n",
    "    na_ordenada= ordenar_esdeveniments(na_notractada)\n",
    "    # el q n s'arriba a produir\n",
    "    i = na_ordenada[:,0]< Temps_execucio*3600\n",
    "    na_tractada= na_ordenada[i,:]\n",
    "    \n",
    "    return na_tractada\n",
    "\n",
    "def ordenar_esdeveniments(na_notractada):\n",
    "    #index llista esdeveniments ordenada per temps\n",
    "    i = np.argsort(na_notractada[:,0])\n",
    "    #esdeveniments ordenats per temps\n",
    "    na_notractada = np.copy(na_notractada[i,:])\n",
    "    return na_notractada"
   ]
  },
  {
   "cell_type": "code",
   "execution_count": 4,
   "metadata": {
    "collapsed": false,
    "slideshow": {
     "slide_type": "subslide"
    }
   },
   "outputs": [],
   "source": [
    "#temps simulació en hores\n",
    "t_simulacio = 3\n",
    "na_notractada = Simular_Ex(t_simulacio)"
   ]
  },
  {
   "cell_type": "code",
   "execution_count": 5,
   "metadata": {
    "collapsed": false
   },
   "outputs": [
    {
     "data": {
      "text/plain": [
       "array([  0.,   1.,   2., ...,  77.,  78.,  77.])"
      ]
     },
     "execution_count": 5,
     "metadata": {},
     "output_type": "execute_result"
    }
   ],
   "source": [
    "na_tractada = tractar_esdeveniments(na_notractada,t_simulacio)\n",
    "np.cumsum(na_tractada[:,1])"
   ]
  },
  {
   "cell_type": "code",
   "execution_count": 6,
   "metadata": {
    "collapsed": false
   },
   "outputs": [
    {
     "data": {
      "text/plain": [
       "3"
      ]
     },
     "execution_count": 6,
     "metadata": {},
     "output_type": "execute_result"
    }
   ],
   "source": [
    "t_simulacio"
   ]
  },
  {
   "cell_type": "code",
   "execution_count": 156,
   "metadata": {
    "collapsed": false
   },
   "outputs": [
    {
     "name": "stdout",
     "output_type": "stream",
     "text": [
      "El nombre de places ocupades al transcorrer \"Temps simulació\" és: 77\n"
     ]
    }
   ],
   "source": [
    "t = na_tractada[:,0]\n",
    "cum_sum = np.cumsum(na_tractada[:,1])\n",
    "print'El nombre de places ocupades al transcorrer \"Temps simulació\" és:',int(cum_sum[-1])"
   ]
  },
  {
   "cell_type": "code",
   "execution_count": 8,
   "metadata": {
    "collapsed": false
   },
   "outputs": [
    {
     "data": {
      "image/png": "[encoded data removed]",
      "text/plain": [
       "<matplotlib.figure.Figure at 0x10e3bb410>"
      ]
     },
     "metadata": {},
     "output_type": "display_data"
    }
   ],
   "source": [
    "%matplotlib inline\n",
    "plt.plot(t/60,cum_sum)\n",
    "plt.xlabel('Temps transcorregut [m]')\n",
    "plt.ylabel('Nombre de places ocupades')\n",
    "plt.grid()"
   ]
  },
  {
   "cell_type": "code",
   "execution_count": 68,
   "metadata": {
    "collapsed": false
   },
   "outputs": [],
   "source": [
    "%run simular"
   ]
  },
  {
   "cell_type": "code",
   "execution_count": 69,
   "metadata": {
    "collapsed": false
   },
   "outputs": [
    {
     "name": "stdout",
     "output_type": "stream",
     "text": [
      "El nombre de places és: 78.0\n"
     ]
    }
   ],
   "source": [
    "t_simulacio = 3\n",
    "n_places = generar_simulacio(t_simulacio)\n",
    "print 'El nombre de places és:',n_places"
   ]
  },
  {
   "cell_type": "markdown",
   "metadata": {},
   "source": [
    "# Simulacions"
   ]
  },
  {
   "cell_type": "markdown",
   "metadata": {},
   "source": [
    "Genero 100 Simulacions de durada 3 hores"
   ]
  },
  {
   "cell_type": "code",
   "execution_count": 219,
   "metadata": {
    "collapsed": true
   },
   "outputs": [],
   "source": [
    "def generar_simulacions(t_simulacio,N_simulacions):\n",
    "    ll_places = [generar_simulacio(t_simulacio) for i in np.arange(0,100)]\n",
    "    return ll_places"
   ]
  },
  {
   "cell_type": "code",
   "execution_count": 125,
   "metadata": {
    "collapsed": false
   },
   "outputs": [
    {
     "name": "stdout",
     "output_type": "stream",
     "text": [
      "CPU times: user 16.3 s, sys: 67.7 ms, total: 16.4 s\n",
      "Wall time: 16.4 s\n"
     ]
    }
   ],
   "source": [
    "%%time\n",
    "t_simulacio = 3\n",
    "N_simulacions = 100\n",
    "ll = generar_simulacions(t_simulacio,N_simulacions)"
   ]
  },
  {
   "cell_type": "code",
   "execution_count": 126,
   "metadata": {
    "collapsed": false
   },
   "outputs": [
    {
     "name": "stdout",
     "output_type": "stream",
     "text": [
      "Temps simulació: 3 hores\n",
      "Num simulacions: 100\n"
     ]
    }
   ],
   "source": [
    "print 'Temps simulació: {} hores'.format(t_simulacio)\n",
    "print 'Num simulacions:',N_simulacions"
   ]
  },
  {
   "cell_type": "markdown",
   "metadata": {},
   "source": [
    "Calculo éstadístiques deles simulacions.\n",
    "\n",
    "Els valors d' **ll** i **x** són nombre de places ocupades al final de les simulacions dutes a terme."
   ]
  },
  {
   "cell_type": "code",
   "execution_count": 127,
   "metadata": {
    "collapsed": false
   },
   "outputs": [
    {
     "name": "stdout",
     "output_type": "stream",
     "text": [
      "('mean:', 84.200000000000003)\n",
      "('std:', 9.2390475699608778)\n",
      "('min', 61.0)\n",
      "('max', 107.0)\n",
      "loc 84.2\n",
      "scale 9.23904756996\n"
     ]
    }
   ],
   "source": [
    "from scipy.stats import norm, histogram\n",
    "import scipy.stats.stats as st\n",
    "x = np.array([ll])\n",
    "loc ,scale = norm.fit(x)\n",
    "min = x.min()\n",
    "max = x.max()\n",
    "print('mean:',loc)\n",
    "print('std:',scale)\n",
    "print('min',x.min())\n",
    "print('max',x.max())\n",
    "print'loc',loc\n",
    "print'scale',scale"
   ]
  },
  {
   "cell_type": "markdown",
   "metadata": {},
   "source": [
    "A partir d'aquí comencen a ser importants:\n",
    "\n",
    "* min:\n",
    "* max:\n",
    "* loc:\n",
    "* scale:"
   ]
  },
  {
   "cell_type": "markdown",
   "metadata": {},
   "source": [
    "## Histograma nombre de places"
   ]
  },
  {
   "cell_type": "code",
   "execution_count": 128,
   "metadata": {
    "collapsed": false
   },
   "outputs": [
    {
     "data": {
      "text/plain": [
       "<matplotlib.text.Text at 0x1118da910>"
      ]
     },
     "execution_count": 128,
     "metadata": {},
     "output_type": "execute_result"
    },
    {
     "data": {
      "image/png": "[encoded data removed]",
      "text/plain": [
       "<matplotlib.figure.Figure at 0x113899890>"
      ]
     },
     "metadata": {},
     "output_type": "display_data"
    }
   ],
   "source": [
    "plt.hist(ll)\n",
    "plt.title('Histograma de nombre de places')"
   ]
  },
  {
   "cell_type": "markdown",
   "metadata": {},
   "source": [
    "## Histograma normalitzat i pdf"
   ]
  },
  {
   "cell_type": "markdown",
   "metadata": {},
   "source": [
    "Em curo amb salut"
   ]
  },
  {
   "cell_type": "code",
   "execution_count": 132,
   "metadata": {
    "collapsed": false
   },
   "outputs": [
    {
     "data": {
      "image/png": "[encoded data removed]",
      "text/plain": [
       "<matplotlib.figure.Figure at 0x113d5d850>"
      ]
     },
     "metadata": {},
     "output_type": "display_data"
    }
   ],
   "source": [
    "plt.hist(ll,normed=True)\n",
    "x = np.linspace(50,120,100)\n",
    "p = plt.plot(x,norm.pdf(x,loc=loc,scale=scale),'r-',label='PDF de normal')"
   ]
  },
  {
   "cell_type": "markdown",
   "metadata": {},
   "source": [
    "## Quin percentatge de la població es troba dins del rang de les nostres simulacions?"
   ]
  },
  {
   "cell_type": "code",
   "execution_count": null,
   "metadata": {
    "collapsed": false
   },
   "outputs": [],
   "source": [
    "from scipy.integrate import trapz\n",
    "#agafo el valor minim i el valor màxim de la distribució que estic tractant\n",
    "x1 = np.linspace(61,107,100)\n",
    "#integro de \n",
    "p = trapz(norm.pdf(x1,loc=loc,scale=scale), x1)\n",
    "print \"{:.2%} of values lie between 60 and 111\".format(p)\n",
    "fb = plt.fill_between(x1, norm.pdf(x1,loc=loc,scale=scale),color=\"gray\")\n",
    "p= plt.plot(x, norm.pdf(x,loc=loc,scale=scale),'r-')\n",
    "plt.title({:.2%} of values lie between 60 and 111\".format(p))\n"
   ]
  },
  {
   "cell_type": "markdown",
   "metadata": {},
   "source": [
    "## Test de normalitat:\n",
    "\n",
    "Faig test de normalitat:"
   ]
  },
  {
   "cell_type": "code",
   "execution_count": 136,
   "metadata": {
    "collapsed": false
   },
   "outputs": [
    {
     "name": "stdout",
     "output_type": "stream",
     "text": [
      "x? = 0.939071104285\n",
      "p-value = 0.625292616668\n"
     ]
    }
   ],
   "source": [
    "t,p = scipy.stats.normaltest(ll)\n",
    "# diferencia entre el ratio de l'error estandard i el de la població\n",
    "print \"x? = {}\".format(t)\n",
    "# he augmentat el centre de la dos doncs ara resulta molt poc probable de que estiguem tractant d'una mateixa població\n",
    "print \"p-value = {}\".format(p)"
   ]
  },
  {
   "cell_type": "markdown",
   "metadata": {},
   "source": [
    "## Prob acumulada... per on van els tiros?"
   ]
  },
  {
   "cell_type": "code",
   "execution_count": 137,
   "metadata": {
    "collapsed": false
   },
   "outputs": [
    {
     "data": {
      "image/png": "[encoded data removed]",
      "text/plain": [
       "<matplotlib.figure.Figure at 0x113fc2c50>"
      ]
     },
     "metadata": {},
     "output_type": "display_data"
    }
   ],
   "source": [
    "plot_percentiles = range(0, 110, 10) \n",
    "x = np.percentile(ll, plot_percentiles)\n",
    "plt.plot(x, plot_percentiles, 'ro-')\n",
    "plt.xlabel('Value')\n",
    "plt.ylabel('Probability')  \n",
    "plt.grid()\n",
    "plt.show()"
   ]
  },
  {
   "cell_type": "code",
   "execution_count": 1,
   "metadata": {
    "collapsed": false
   },
   "outputs": [
    {
     "ename": "NameError",
     "evalue": "name 'll' is not defined",
     "output_type": "error",
     "traceback": [
      "\u001b[0;31m---------------------------------------------------------------------------\u001b[0m",
      "\u001b[0;31mNameError\u001b[0m                                 Traceback (most recent call last)",
      "\u001b[0;32m<ipython-input-1-e73309ece6ca>\u001b[0m in \u001b[0;36m<module>\u001b[0;34m()\u001b[0m\n\u001b[1;32m      2\u001b[0m \u001b[0;32mimport\u001b[0m \u001b[0mmatplotlib\u001b[0m\u001b[0;34m.\u001b[0m\u001b[0mpyplot\u001b[0m \u001b[0;32mas\u001b[0m \u001b[0mplt\u001b[0m\u001b[0;34m\u001b[0m\u001b[0m\n\u001b[1;32m      3\u001b[0m \u001b[0;34m\u001b[0m\u001b[0m\n\u001b[0;32m----> 4\u001b[0;31m \u001b[0mnsample\u001b[0m\u001b[0;34m=\u001b[0m\u001b[0mlen\u001b[0m\u001b[0;34m(\u001b[0m\u001b[0mll\u001b[0m\u001b[0;34m)\u001b[0m\u001b[0;34m\u001b[0m\u001b[0m\n\u001b[0m\u001b[1;32m      5\u001b[0m \u001b[0;34m\u001b[0m\u001b[0m\n\u001b[1;32m      6\u001b[0m \u001b[0mplot_percentiles\u001b[0m \u001b[0;34m=\u001b[0m \u001b[0mrange\u001b[0m\u001b[0;34m(\u001b[0m\u001b[0;36m0\u001b[0m\u001b[0;34m,\u001b[0m \u001b[0;36m110\u001b[0m\u001b[0;34m,\u001b[0m \u001b[0;36m10\u001b[0m\u001b[0;34m)\u001b[0m\u001b[0;34m\u001b[0m\u001b[0m\n",
      "\u001b[0;31mNameError\u001b[0m: name 'll' is not defined"
     ]
    }
   ],
   "source": [
    "from scipy import stats\n",
    "import matplotlib.pyplot as plt\n",
    "\n",
    "nsample=len(ll)\n",
    "\n",
    "plot_percentiles = range(0, 110, 10) \n",
    "x = np.percentile(ll, plot_percentiles)\n",
    "#create list of random variables\n",
    "\n",
    "\n",
    "# Calculate quantiles and least-square-fit curve\n",
    "(quantiles, values), (slope, intercept, r) = stats.probplot(x, dist='norm')\n",
    "\n",
    "#plot results\n",
    "plt.plot(values, quantiles,'ob')\n",
    "plt.plot(quantiles * slope + intercept, quantiles, 'r')\n",
    "\n",
    "#define ticks\n",
    "ticks_perc=[1, 5, 10, 20, 50, 80, 90, 95, 99]\n",
    "\n",
    "#transfrom them from precentile to cumulative density\n",
    "ticks_quan=[stats.norm.ppf(i/100.) for i in ticks_perc]\n",
    "\n",
    "#assign new ticks\n",
    "plt.yticks(ticks_quan,ticks_perc)\n",
    "\n",
    "#show plot\n",
    "plt.grid()\n",
    "plt.show()"
   ]
  },
  {
   "cell_type": "markdown",
   "metadata": {},
   "source": [
    "Genero 10.000 simulacions de durada 3 hores."
   ]
  },
  {
   "cell_type": "code",
   "execution_count": 155,
   "metadata": {
    "collapsed": false
   },
   "outputs": [
    {
     "name": "stdout",
     "output_type": "stream",
     "text": [
      "CPU times: user 32min 49s, sys: 16.3 s, total: 33min 6s\n",
      "Wall time: 33min 31s\n"
     ]
    }
   ],
   "source": [
    "%%time\n",
    "t_simulacio = 3\n",
    "N_simulacions = 10000\n",
    "ll = generar_simulacions(t_simulacio,N_simulacions)"
   ]
  },
  {
   "cell_type": "code",
   "execution_count": 140,
   "metadata": {
    "collapsed": false
   },
   "outputs": [
    {
     "name": "stdout",
     "output_type": "stream",
     "text": [
      "Temps simulació: 3 hores\n",
      "Num simulacions: 1000\n"
     ]
    }
   ],
   "source": [
    "print 'Temps simulació: {} hores'.format(t_simulacio)\n",
    "print 'Num simulacions:',N_simulacions"
   ]
  },
  {
   "cell_type": "markdown",
   "metadata": {},
   "source": [
    "x ara serà la meva llista.\n",
    "\n",
    "Està b que posi com mínim i màxim de la norma els mínims i màxims de la nostra distribució?\n",
    "despres independentment faré un test no en tinc clara la lectura... tests d'hipotesis"
   ]
  },
  {
   "cell_type": "code",
   "execution_count": 141,
   "metadata": {
    "collapsed": false
   },
   "outputs": [
    {
     "name": "stdout",
     "output_type": "stream",
     "text": [
      "('mean:', 84.079999999999998)\n",
      "('std:', 9.1840949472443931)\n",
      "('min', 54.0)\n",
      "('max', 116.0)\n",
      "loc 84.08\n",
      "scale 9.18409494724\n"
     ]
    }
   ],
   "source": [
    "from scipy.stats import norm, histogram\n",
    "import scipy.stats.stats as st\n",
    "x = np.array([ll])\n",
    "loc ,scale = norm.fit(x)\n",
    "min = x.min()\n",
    "max = x.max()\n",
    "print('mean:',loc)\n",
    "print('std:',scale)\n",
    "print('min',x.min())\n",
    "print('max',x.max())\n",
    "print'loc',loc\n",
    "print'scale',scale"
   ]
  },
  {
   "cell_type": "markdown",
   "metadata": {},
   "source": [
    "## Histograma nombre de places"
   ]
  },
  {
   "cell_type": "code",
   "execution_count": 142,
   "metadata": {
    "collapsed": false
   },
   "outputs": [
    {
     "data": {
      "text/plain": [
       "(array([   2.,   21.,   83.,  182.,  237.,  266.,  126.,   71.,    9.,    3.]),\n",
       " array([  54. ,   60.2,   66.4,   72.6,   78.8,   85. ,   91.2,   97.4,\n",
       "         103.6,  109.8,  116. ]),\n",
       " <a list of 10 Patch objects>)"
      ]
     },
     "execution_count": 142,
     "metadata": {},
     "output_type": "execute_result"
    },
    {
     "data": {
      "image/png": "[encoded data removed]",
      "text/plain": [
       "<matplotlib.figure.Figure at 0x113d7a1d0>"
      ]
     },
     "metadata": {},
     "output_type": "display_data"
    }
   ],
   "source": [
    "plt.hist(ll)"
   ]
  },
  {
   "cell_type": "markdown",
   "metadata": {},
   "source": [
    "## Histograma normalitzat i pdf"
   ]
  },
  {
   "cell_type": "markdown",
   "metadata": {},
   "source": [
    "Em curo n salut"
   ]
  },
  {
   "cell_type": "code",
   "execution_count": 147,
   "metadata": {
    "collapsed": false
   },
   "outputs": [
    {
     "data": {
      "image/png": "[encoded data removed]",
      "text/plain": [
       "<matplotlib.figure.Figure at 0x112e9f590>"
      ]
     },
     "metadata": {},
     "output_type": "display_data"
    }
   ],
   "source": [
    "h =plt.hist(ll,normed=True)\n",
    "x = np.linspace(50,120,100)\n",
    "p = plt.plot(x,norm.pdf(x,loc=loc,scale=scale),'r-',label='PDF de normal')"
   ]
  },
  {
   "cell_type": "markdown",
   "metadata": {},
   "source": [
    "## Quin percentatge de la població es troba dins del rang de les nostres simulacions?"
   ]
  },
  {
   "cell_type": "code",
   "execution_count": 148,
   "metadata": {
    "collapsed": false
   },
   "outputs": [
    {
     "name": "stdout",
     "output_type": "stream",
     "text": [
      "99.92% of values lie between 54 and 116\n"
     ]
    },
    {
     "data": {
      "image/png": "[encoded data removed]",
      "text/plain": [
       "<matplotlib.figure.Figure at 0x113f0f0d0>"
      ]
     },
     "metadata": {},
     "output_type": "display_data"
    }
   ],
   "source": [
    "from scipy.integrate import trapz\n",
    "#agafo el valor minim i el valor màxim de x\n",
    "x1 = np.linspace(54,116,100)\n",
    "#integro de \n",
    "p = trapz(norm.pdf(x1,loc=loc,scale=scale), x1)\n",
    "print \"{:.2%} of values lie between 54 and 116\".format(p)\n",
    "fb = plt.fill_between(x1, norm.pdf(x1,loc=loc,scale=scale),color=\"gray\")\n",
    "p= plt.plot(x, norm.pdf(x,loc=loc,scale=scale),'r-')"
   ]
  },
  {
   "cell_type": "markdown",
   "metadata": {},
   "source": [
    "## Test de normalitat:\n",
    "\n",
    "Faig test de normalitat:"
   ]
  },
  {
   "cell_type": "code",
   "execution_count": 151,
   "metadata": {
    "collapsed": false
   },
   "outputs": [
    {
     "name": "stdout",
     "output_type": "stream",
     "text": [
      "x? = 3.00055442806\n",
      "p-value = 0.22306831391\n"
     ]
    }
   ],
   "source": [
    "t,p = scipy.stats.normaltest(ll)\n",
    "# diferencia entre el ratio de l'error estandard i el de la població\n",
    "print \"x? = {}\".format(t)\n",
    "# he augmentat el centre de la dos doncs ara resulta molt poc probable de que estiguem tractant d'una mateixa població\n",
    "print \"p-value = {}\".format(p)"
   ]
  },
  {
   "cell_type": "markdown",
   "metadata": {},
   "source": [
    "## Prob acumulada... per on van els tiros?"
   ]
  },
  {
   "cell_type": "code",
   "execution_count": 152,
   "metadata": {
    "collapsed": false
   },
   "outputs": [
    {
     "data": {
      "image/png": "[encoded data removed]",
      "text/plain": [
       "<matplotlib.figure.Figure at 0x114176dd0>"
      ]
     },
     "metadata": {},
     "output_type": "display_data"
    }
   ],
   "source": [
    "plot_percentiles = range(0, 110, 10) \n",
    "x = np.percentile(ll, plot_percentiles)\n",
    "plt.plot(x, plot_percentiles, 'ro-')\n",
    "plt.xlabel('Value')\n",
    "plt.ylabel('Probability')  \n",
    "plt.grid()\n",
    "plt.show()"
   ]
  },
  {
   "cell_type": "code",
   "execution_count": 154,
   "metadata": {
    "collapsed": false
   },
   "outputs": [
    {
     "name": "stdout",
     "output_type": "stream",
     "text": [
      "1000\n"
     ]
    },
    {
     "data": {
      "image/png": "[encoded data removed]",
      "text/plain": [
       "<matplotlib.figure.Figure at 0x1125540d0>"
      ]
     },
     "metadata": {},
     "output_type": "display_data"
    }
   ],
   "source": [
    "from scipy import stats\n",
    "import matplotlib.pyplot as plt\n",
    "\n",
    "nsample=len(ll)\n",
    "print nsample\n",
    "#create list of random variables\n",
    "\n",
    "\n",
    "# Calculate quantiles and least-square-fit curve\n",
    "(quantiles, values), (slope, intercept, r) = stats.probplot(x, dist='norm')\n",
    "\n",
    "#plot results\n",
    "plt.plot(values, quantiles,'ob')\n",
    "plt.plot(quantiles * slope + intercept, quantiles, 'r')\n",
    "\n",
    "#define ticks\n",
    "ticks_perc=[1, 5, 10, 20, 50, 80, 90, 95, 99]\n",
    "\n",
    "#transfrom them from precentile to cumulative density\n",
    "ticks_quan=[stats.norm.ppf(i/100.) for i in ticks_perc]\n",
    "\n",
    "#assign new ticks\n",
    "plt.yticks(ticks_quan,ticks_perc)\n",
    "\n",
    "#show plot\n",
    "plt.grid()\n",
    "plt.show()"
   ]
  },
  {
   "cell_type": "code",
   "execution_count": null,
   "metadata": {
    "collapsed": false
   },
   "outputs": [],
   "source": []
  },
  {
   "cell_type": "code",
   "execution_count": null,
   "metadata": {
    "collapsed": false
   },
   "outputs": [],
   "source": []
  },
  {
   "cell_type": "code",
   "execution_count": null,
   "metadata": {
    "collapsed": true
   },
   "outputs": [],
   "source": []
  }
 ],
 "metadata": {
  "celltoolbar": "Slideshow",
  "kernelspec": {
   "display_name": "Python 2",
   "language": "python",
   "name": "python2"
  },
  "language_info": {
   "codemirror_mode": {
    "name": "ipython",
    "version": 2
   },
   "file_extension": ".py",
   "mimetype": "text/x-python",
   "name": "python",
   "nbconvert_exporter": "python",
   "pygments_lexer": "ipython2",
   "version": "2.7.10"
  }
 },
 "nbformat": 4,
 "nbformat_minor": 0
}
